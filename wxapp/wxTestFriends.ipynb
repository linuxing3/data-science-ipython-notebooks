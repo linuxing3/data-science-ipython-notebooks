{
 "cells": [
  {
   "cell_type": "code",
   "execution_count": null,
   "metadata": {
    "collapsed": false
   },
   "outputs": [],
   "source": [
    "#coding=utf8\n",
    "import itchat\n",
    "\n",
    "CHATROOM_NAME = 'friends'\n",
    "CHATROOM = None\n",
    "HELP_MSG = u'''\\\n",
    "好友状态监测\n",
    "* 发送名片将会返回好友状态\n",
    "* 请确有名为%s的未使用的群聊\n",
    "* 并将该群聊保存到通讯录\n",
    "* 调用频率存在一定限制\\\n",
    "''' % CHATROOM_NAME\n",
    "CHATROOM_MSG = u'''\\\n",
    "无法自动创建群聊，请手动创建\n",
    "确保群聊名称为%s\n",
    "请不要使用已经使用过的群聊\n",
    "创建后请将群聊保存到通讯录\\\n",
    "''' % CHATROOM_NAME\n",
    "\n",
    "\n",
    "def get_chatroom():\n",
    "    global CHATROOM\n",
    "    if CHATROOM is None:\n",
    "        itchat.get_chatrooms(update=True)\n",
    "        chatrooms = itchat.search_chatrooms(CHATROOM_NAME)\n",
    "        if chatrooms:\n",
    "            return chatrooms[0]\n",
    "        else:\n",
    "            r = itchat.create_chatroom(itchat.get_friends()[1:4], topic=CHATROOM_NAME)\n",
    "            if r['BaseResponse']['ErrMsg'] == '':\n",
    "                CHATROOM = {'UserName': r['ChatRoomName']}\n",
    "                return CHATROOM\n",
    "    else:\n",
    "        return CHATROOM\n",
    "def get_friend_status(friend):\n",
    "    ownAccount = itchat.get_friends(update=True)[0]\n",
    "    if friend['UserName'] == ownAccount['UserName']:\n",
    "        return u'检测到本人账号。'\n",
    "    elif itchat.search_friends(userName=friend['UserName']) is None:\n",
    "        return u'该用户不在你的好友列表中。'\n",
    "    else:\n",
    "        chatroom = CHATROOM or get_chatroom()\n",
    "        if chatroom is None: return CHATROOM_MSG\n",
    "        r = itchat.add_member_into_chatroom(chatroom['UserName'], [friend])\n",
    "        if r['BaseResponse']['ErrMsg'] == '':\n",
    "            status = r['MemberList'][0]['MemberStatus']\n",
    "            itchat.delete_member_from_chatroom(chatroom['UserName'], [friend])\n",
    "            return { 3: u'该好友已经将你加入黑名单。',\n",
    "                4: u'该好友已经将你删除。', }.get(status,\n",
    "                u'该好友仍旧与你是好友关系。')\n",
    "        else:\n",
    "            return u'无法获取好友状态，预计已经达到接口调用限制。'\n",
    "\n",
    "@itchat.msg_register(itchat.content.CARD)\n",
    "def get_friend(msg):\n",
    "    if msg['ToUserName'] != 'filehelper': return\n",
    "    friendStatus = get_friend_status(msg['RecommendInfo'])\n",
    "    itchat.send(friendStatus, 'filehelper')\n",
    "\n",
    "itchat.auto_login(True)\n",
    "itchat.send(HELP_MSG, 'filehelper')\n",
    "itchat.run()"
   ]
  },
  {
   "cell_type": "code",
   "execution_count": null,
   "metadata": {
    "collapsed": true
   },
   "outputs": [],
   "source": []
  }
 ],
 "metadata": {
  "kernelspec": {
   "display_name": "Python 3",
   "language": "python",
   "name": "python3"
  },
  "language_info": {
   "codemirror_mode": {
    "name": "ipython",
    "version": 3
   },
   "file_extension": ".py",
   "mimetype": "text/x-python",
   "name": "python",
   "nbconvert_exporter": "python",
   "pygments_lexer": "ipython3",
   "version": "3.5.2"
  }
 },
 "nbformat": 4,
 "nbformat_minor": 0
}
