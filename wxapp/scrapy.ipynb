{
 "cells": [
  {
   "cell_type": "code",
   "execution_count": null,
   "metadata": {
    "collapsed": true
   },
   "outputs": [],
   "source": [
    "import scrapy"
   ]
  },
  {
   "cell_type": "code",
   "execution_count": null,
   "metadata": {
    "collapsed": true
   },
   "outputs": [],
   "source": [
    "class DmozItem(scrapy.Item):\n",
    "    title = scrapy.Field()\n",
    "    link = scrapy.Field()\n",
    "    desc = scrapy.Field()\n",
    " \n",
    "class DmozSpider(scrapy.Spider):\n",
    "    name = \"dmoz\"\n",
    "    allowed_domains = [\"dmoz.org\"]\n",
    "    start_urls = [\n",
    "        \"http://www.dmoz.org/Computers/Programming/Languages/Python/Books/\",\n",
    "        \"http://www.dmoz.org/Computers/Programming/Languages/Python/Resources/\"\n",
    "    ]\n",
    " \n",
    "    def parse(self, response):\n",
    "        for sel in response.xpath('//ul/li'):\n",
    "            item = DmozItem()\n",
    "            item['title'] = sel.xpath('a/text()').extract()\n",
    "            item['link'] = sel.xpath('a/@href').extract()\n",
    "            item['desc'] = sel.xpath('text()').extract()\n",
    "            yield item"
   ]
  },
  {
   "cell_type": "code",
   "execution_count": null,
   "metadata": {
    "collapsed": false
   },
   "outputs": [],
   "source": [
    "# scrapy api\n",
    "from scrapy import signals\n",
    "from twisted.internet import reactor\n",
    "from scrapy.crawler import Crawler\n",
    "from scrapy.settings import Settings\n",
    " \n",
    "def spider_closing(spider):\n",
    "    \"\"\"Activates on spider closed signal\"\"\"\n",
    "    log.msg(\"Closing reactor\", level=log.INFO)\n",
    "    reactor.stop()\n",
    "    \n",
    "settings = Settings()\n",
    "\n",
    "# setting p\n",
    "settings.set(\"ITEM_PIPELINES\", {'pipelines.DataBasePipeline': 300})\n",
    "\n",
    "# crawl responsibly\n",
    "settings.set(\"USER_AGENT\", \"Mozilla/5.0 (Windows NT 6.2; Win64; x64) AppleWebKit/537.36 (KHTML, like Gecko) Chrome/32.0.1667.0 Safari/537.36\")"
   ]
  },
  {
   "cell_type": "code",
   "execution_count": null,
   "metadata": {
    "collapsed": false
   },
   "outputs": [],
   "source": [
    "crawler = Crawler(DmozSpider,settings)"
   ]
  },
  {
   "cell_type": "code",
   "execution_count": null,
   "metadata": {
    "collapsed": false
   },
   "outputs": [],
   "source": [
    "# stop reactor when spider closes\n",
    "crawler.signals.connect(spider_closing, signal=signals.spider_closed)\n",
    "reactor.run()"
   ]
  }
 ],
 "metadata": {
  "kernelspec": {
   "display_name": "Python 3",
   "language": "python",
   "name": "python3"
  },
  "language_info": {
   "codemirror_mode": {
    "name": "ipython",
    "version": 3
   },
   "file_extension": ".py",
   "mimetype": "text/x-python",
   "name": "python",
   "nbconvert_exporter": "python",
   "pygments_lexer": "ipython3",
   "version": "3.5.2"
  }
 },
 "nbformat": 4,
 "nbformat_minor": 0
}
