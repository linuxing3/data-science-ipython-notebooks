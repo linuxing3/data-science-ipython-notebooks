{
 "cells": [
  {
   "cell_type": "code",
   "execution_count": 2,
   "metadata": {
    "collapsed": false
   },
   "outputs": [
    {
     "name": "stdout",
     "output_type": "stream",
     "text": [
      "█\r"
     ]
    }
   ],
   "source": [
    "#coding=utf8\n",
    "import itchat\n",
    "import time"
   ]
  },
  {
   "cell_type": "code",
   "execution_count": 3,
   "metadata": {
    "collapsed": false
   },
   "outputs": [
    {
     "name": "stdout",
     "output_type": "stream",
     "text": [
      "Please press confirm\n",
      "Login successfully as 文聚\n"
     ]
    }
   ],
   "source": [
    "# auto login\n",
    "# hotReload=True\n",
    "# enableCmdQR=True\n",
    "itchat.auto_login(True)"
   ]
  },
  {
   "cell_type": "code",
   "execution_count": 4,
   "metadata": {
    "collapsed": false
   },
   "outputs": [
    {
     "data": {
      "text/plain": [
       "True"
      ]
     },
     "execution_count": 4,
     "metadata": {},
     "output_type": "execute_result"
    }
   ],
   "source": [
    "# send text message to user himself\n",
    "itchat.send('http://chuansong.me/n/566766347555','filehelper')\n",
    "itchat.send_file('wxapp.html','filehelper')"
   ]
  },
  {
   "cell_type": "code",
   "execution_count": 35,
   "metadata": {
    "collapsed": false
   },
   "outputs": [
    {
     "name": "stdout",
     "output_type": "stream",
     "text": [
      "[{'RemarkName': '宝宝', 'Sex': 2, 'DisplayName': '', 'VerifyFlag': 0, 'RemarkPYInitial': 'BB', 'UserName': '@681388f7a40587eb7e473aeeb951837a13157c55c44e7350ea2f2a62819d36e9', 'Province': '北京', 'AttrStatus': 104573, 'Signature': '', 'PYInitial': 'LL', 'ContactFlag': 2051, 'MemberList': [], 'StarFriend': 0, 'RemarkPYQuanPin': 'baobao', 'Alias': 'Lunawang99', 'HideInputBarFlag': 0, 'KeyWord': '', 'ChatRoomId': 0, 'SnsFlag': 49, 'HeadImgUrl': '/cgi-bin/mmwebwx-bin/webwxgeticon?seq=641487924&username=@681388f7a40587eb7e473aeeb951837a13157c55c44e7350ea2f2a62819d36e9&skey=@crypt_f10b5038_cfbc8bfa9e532e1808004d571c1e83da', 'NickName': ' 璐璐', 'MemberCount': 0, 'AppAccountFlag': 0, 'Uin': 0, 'PYQuanPin': 'lulu', 'City': '朝阳', 'OwnerUin': 0, 'Statues': 0, 'UniFriend': 0, 'EncryChatRoomId': ''}]\n"
     ]
    }
   ],
   "source": [
    "lover = itchat.search_friends(name='Lunawang99')\n",
    "print(lover)"
   ]
  },
  {
   "cell_type": "code",
   "execution_count": 39,
   "metadata": {
    "collapsed": false
   },
   "outputs": [
    {
     "data": {
      "text/plain": [
       "True"
      ]
     },
     "execution_count": 39,
     "metadata": {},
     "output_type": "execute_result"
    }
   ],
   "source": [
    "# 给老婆发短信\n",
    "LOVE_MSG = u'''\\\n",
    "对啊，27号前 \\\n",
    "'''\n",
    "itchat.send(LOVE_MSG,'Lunawang99')"
   ]
  },
  {
   "cell_type": "code",
   "execution_count": 6,
   "metadata": {
    "collapsed": false
   },
   "outputs": [
    {
     "name": "stdout",
     "output_type": "stream",
     "text": [
      "文聚,真诚地祝你节日快乐！ @e85a2fcc780b30da8bf41a846d2bda55\n",
      "@e85a2fcc780b30da8bf41a846d2bda55\n",
      "文聚\n",
      "\n",
      "李东,真诚地祝你节日快乐！ @0476a2c38ba863afa36dc89d37e00580a1c61253f456ef7298b5459f400b9947\n",
      "@0476a2c38ba863afa36dc89d37e00580a1c61253f456ef7298b5459f400b9947\n",
      "李东\n",
      "\n",
      "trij西贝,真诚地祝你节日快乐！ @8299d45aa22e63e8a9d9230291749cecd1c3ab30a6c64b4d82bd6e261bdc9182\n",
      "@8299d45aa22e63e8a9d9230291749cecd1c3ab30a6c64b4d82bd6e261bdc9182\n",
      "trij西贝\n",
      "\n"
     ]
    }
   ],
   "source": [
    "# send message to every friend\n",
    "SINCERE_WISH = u'%s,真诚地祝你节日快乐！'\n",
    "\n",
    "friendList = itchat.get_friends(update=True)[0:3]\n",
    "\n",
    "for friend in friendList:\n",
    "    # 如果是演示目的，把下面的方法改为print即可\n",
    "    print(SINCERE_WISH % (friend['DisplayName']\n",
    "        or friend['NickName']), friend['UserName'])\n",
    "    print(friend['UserName'])\n",
    "    print(friend['NickName'])\n",
    "    print(friend['DisplayName'])\n",
    "    time.sleep(.5)"
   ]
  },
  {
   "cell_type": "code",
   "execution_count": 24,
   "metadata": {
    "collapsed": false
   },
   "outputs": [],
   "source": [
    "# testing friend blacklist"
   ]
  },
  {
   "cell_type": "code",
   "execution_count": null,
   "metadata": {
    "collapsed": false
   },
   "outputs": [
    {
     "name": "stdout",
     "output_type": "stream",
     "text": [
      "Start auto replying\n"
     ]
    }
   ],
   "source": [
    "# 网易音乐API\n",
    "from NetEaseMusicApi import interact_select_song\n",
    "HELP_MSG = u'''\\\n",
    "欢迎使用微信网易云音乐\n",
    "帮助： 显示帮助\n",
    "关闭： 关闭歌曲\n",
    "歌名： 按照引导播放音乐\\\n",
    "'''\n",
    "with open('stop.mp3', 'w') as f: pass\n",
    "def close_music():\n",
    "    os.startfile('stop.mp3')\n",
    "\n",
    "@itchat.msg_register(itchat.content.TEXT)\n",
    "def music_player(msg):\n",
    "    if msg['ToUserName'] != 'filehelper': return\n",
    "    if msg['Text'] == u'关闭':\n",
    "        close_music()\n",
    "        itchat.send(u'音乐已关闭', 'filehelper')\n",
    "    if msg['Text'] == u'帮助':\n",
    "        itchat.send(HELP_MSG, 'filehelper')\n",
    "    else:\n",
    "        itchat.send(interact_select_song(msg['Text']), 'filehelper')\n",
    "\n",
    "# run the block\n",
    "itchat.run()"
   ]
  },
  {
   "cell_type": "code",
   "execution_count": null,
   "metadata": {
    "collapsed": true
   },
   "outputs": [],
   "source": []
  }
 ],
 "metadata": {
  "kernelspec": {
   "display_name": "Python 3",
   "language": "python",
   "name": "python3"
  },
  "language_info": {
   "codemirror_mode": {
    "name": "ipython",
    "version": 3
   },
   "file_extension": ".py",
   "mimetype": "text/x-python",
   "name": "python",
   "nbconvert_exporter": "python",
   "pygments_lexer": "ipython3",
   "version": "3.5.2"
  }
 },
 "nbformat": 4,
 "nbformat_minor": 0
}
