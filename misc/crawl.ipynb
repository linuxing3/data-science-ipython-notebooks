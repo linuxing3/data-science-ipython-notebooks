{
 "cells": [
  {
   "cell_type": "code",
   "execution_count": 5,
   "metadata": {
    "collapsed": false
   },
   "outputs": [
    {
     "name": "stdout",
     "output_type": "stream",
     "text": [
      "[]\n"
     ]
    }
   ],
   "source": [
    "import requests\n",
    "import bs4\n",
    "\n",
    "root_url = 'http://pyvideo.org'\n",
    "index_url = root_url + '/events/pycon-us-2016.html'\n",
    "\n",
    "def get_video_page_urls():\n",
    "    response = requests.get(index_url)\n",
    "    soup = bs4.BeautifulSoup(response.text,\"lxml\")\n",
    "    return [a.attrs.get('href') for a in soup.select('article.list_item a[href^=/video]')]\n",
    "\n",
    "print(get_video_page_urls())"
   ]
  },
  {
   "cell_type": "code",
   "execution_count": null,
   "metadata": {
    "collapsed": true
   },
   "outputs": [],
   "source": []
  }
 ],
 "metadata": {
  "anaconda-cloud": {},
  "kernelspec": {
   "display_name": "Python [conda env:python2]",
   "language": "python",
   "name": "conda-env-python2-py"
  },
  "language_info": {
   "codemirror_mode": {
    "name": "ipython",
    "version": 2
   },
   "file_extension": ".py",
   "mimetype": "text/x-python",
   "name": "python",
   "nbconvert_exporter": "python",
   "pygments_lexer": "ipython2",
   "version": "2.7.12"
  }
 },
 "nbformat": 4,
 "nbformat_minor": 1
}
