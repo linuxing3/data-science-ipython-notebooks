{
 "cells": [
  {
   "cell_type": "markdown",
   "metadata": {},
   "source": [
    "## Using keyshort\n",
    "\n",
    "|Key|Funcion|\n",
    "|----|----|\n",
    "|Y|Coce|\n",
    "|M|Markdown|\n",
    "|R|Raw|\n",
    "|A|Insert Row below|\n",
    "|B|Insert Row below|\n",
    "|X|Cut|\n",
    "|C|Copy|\n",
    "|V|Paste|\n",
    "|Enter|Edit Mode|\n",
    "|Shift-Enter|Run Cell|\n",
    "|ESC|Command Mode|"
   ]
  },
  {
   "cell_type": "markdown",
   "metadata": {},
   "source": [
    "## Custom file location"
   ]
  },
  {
   "cell_type": "code",
   "execution_count": null,
   "metadata": {
    "collapsed": true
   },
   "outputs": [],
   "source": [
    "from jupyter_core.paths import jupyter_config_dir\n",
    "jupyter_dir = jupyter_config_dir()\n",
    "jupyter_dir"
   ]
  },
  {
   "cell_type": "code",
   "execution_count": 3,
   "metadata": {
    "collapsed": false
   },
   "outputs": [
    {
     "data": {
      "text/plain": [
       "'/Users/linuxing3/.jupyter/custom/custom.js'"
      ]
     },
     "execution_count": 3,
     "metadata": {},
     "output_type": "execute_result"
    }
   ],
   "source": [
    "import os.path\n",
    "custom_js_path = os.path.join(jupyter_dir, 'custom', 'custom.js')\n",
    "custom_js_path"
   ]
  },
  {
   "cell_type": "markdown",
   "metadata": {
    "collapsed": false
   },
   "source": [
    "##  my custom js\n",
    "```javascript\n",
    "if os.path.isfile(custom_js_path):\n",
    "    with open(custom_js_path) as f:\n",
    "        print(f.read())\n",
    "else:\n",
    "    print(\"You don't have a custom.js file\")\n",
    "```"
   ]
  },
  {
   "cell_type": "markdown",
   "metadata": {
    "collapsed": true
   },
   "source": [
    "## Secure notebook server"
   ]
  },
  {
   "cell_type": "code",
   "execution_count": null,
   "metadata": {
    "collapsed": true
   },
   "outputs": [],
   "source": [
    "# 加密笔记服务器\n",
    "from notebook.auth import passwd\n",
    "passwd()"
   ]
  },
  {
   "cell_type": "code",
   "execution_count": null,
   "metadata": {
    "collapsed": true
   },
   "outputs": [],
   "source": [
    "* 编辑`~/.jupyter/jupyter_notebook_config.py`\n",
    "\n",
    "\n",
    "```\n",
    "c.NotebookApp.password = u'sha1:'\n",
    "```\n",
    "\n",
    "* When using a password, it is a good idea to also use `SSL` with a web certificate\n",
    "\n",
    "* `openssl` will generate a `certfile` and a `keyfile`\n",
    "\n",
    "```\n",
    "openssl req -x509 -nodes -days 365 -newkey rsa:1024 -keyout mykey.key -out mycert.pem\n",
    "jupyter notebook --certfile=mycert.pem --keyfile mykey.key\n",
    "```\n",
    "\n",
    "* 一个可配置的服务器\n",
    "\n",
    "```sh\n",
    "c.NotebookApp.base_url = '/ipython/'\n",
    "# Set options for certfile, ip, password, and toggle off\n",
    "# browser auto-opening\n",
    "c.NotebookApp.certfile = u'/absolute/path/to/your/certificate/mycert.pem'\n",
    "c.NotebookApp.keyfile = u'/absolute/path/to/your/certificate/mykey.key'\n",
    "# Set ip to '*' to bind on all interfaces (ips) for the public server\n",
    "c.NotebookApp.ip = '*'\n",
    "c.NotebookApp.password = u'sha1:<your hashed password here>'\n",
    "c.NotebookApp.open_browser = False\n",
    "\n",
    "# It is a good idea to set a known, fixed port for server access\n",
    "c.NotebookApp.port = 8888\n",
    "```"
   ]
  },
  {
   "cell_type": "code",
   "execution_count": null,
   "metadata": {
    "collapsed": true
   },
   "outputs": [],
   "source": [
    "* Jupyter Notebook and qtconsole\n",
    "\n",
    "```sh\n",
    "c = get_config()\n",
    "c.NotebookApp.base_url = '/ipython/'\n",
    "# Set options for certfile, ip, password, and toggle off\n",
    "# browser auto-opening\n",
    "c.NotebookApp.certfile = u'/absolute/path/to/your/certificate/mycert.pem'\n",
    "c.NotebookApp.keyfile = u'/absolute/path/to/your/certificate/mykey.key'\n",
    "# Set ip to '*' to bind on all interfaces (ips) for the public server\n",
    "c.NotebookApp.ip = '*'\n",
    "c.NotebookApp.password = u'sha1:<your hashed password here>'\n",
    "c.NotebookApp.open_browser = False\n",
    "\n",
    "# It is a good idea to set a known, fixed port for server access\n",
    "c.NotebookApp.port = 8888\n",
    "```"
   ]
  },
  {
   "cell_type": "markdown",
   "metadata": {},
   "source": [
    "## Customize look with css"
   ]
  },
  {
   "cell_type": "markdown",
   "metadata": {},
   "source": [
    "```sh\n",
    "pip install jupyterthemes\n",
    "jt -t oceans16 -f roboto -fs 14 -cellw 1600\n",
    "```"
   ]
  }
 ],
 "metadata": {
  "anaconda-cloud": {},
  "kernelspec": {
   "display_name": "Python [conda env:python2]",
   "language": "python",
   "name": "conda-env-python2-py"
  },
  "language_info": {
   "codemirror_mode": {
    "name": "ipython",
    "version": 2
   },
   "file_extension": ".py",
   "mimetype": "text/x-python",
   "name": "python",
   "nbconvert_exporter": "python",
   "pygments_lexer": "ipython2",
   "version": "2.7.12"
  }
 },
 "nbformat": 4,
 "nbformat_minor": 0
}
