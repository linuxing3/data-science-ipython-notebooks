{
 "cells": [
  {
   "cell_type": "code",
   "execution_count": 1,
   "metadata": {
    "collapsed": true
   },
   "outputs": [],
   "source": [
    "import os\n",
    "import subprocess\n",
    "import urllib"
   ]
  },
  {
   "cell_type": "code",
   "execution_count": 2,
   "metadata": {
    "collapsed": true
   },
   "outputs": [],
   "source": [
    "theme_names = ['3024-dark',\n",
    "               '3024-light',\n",
    "               'atelierdune-dark',\n",
    "               'atelierdune-light',\n",
    "               'atelierforest-dark',\n",
    "               'atelierforest-light',\n",
    "               'atelierheath-dark',\n",
    "               'atelierheath-light',\n",
    "               'atelierlakeside-dark',\n",
    "               'atelierlakeside-light',\n",
    "               'atelierseaside-dark',\n",
    "               'atelierseaside-light',\n",
    "               'bespin-dark',\n",
    "               'bespin-light',\n",
    "               'chalk-dark',\n",
    "               'chalk-light',\n",
    "               'default-dark',\n",
    "               'default-light',\n",
    "               'eighties-dark',\n",
    "               'eighties-light',\n",
    "               'grayscale-dark',\n",
    "               'grayscale-light',\n",
    "               'greenscreen-dark',\n",
    "               'greenscreen-light',\n",
    "               'isotope-dark',\n",
    "               'isotope-light',\n",
    "               'londontube-dark',\n",
    "               'londontube-light',\n",
    "               'marrakesh-dark',\n",
    "               'marrakesh-light',\n",
    "               'mocha-dark',\n",
    "               'mocha-light',\n",
    "               'monokai-dark',\n",
    "               'monokai-light',\n",
    "               'ocean-dark',\n",
    "               'ocean-light',\n",
    "               'paraiso-dark',\n",
    "               'paraiso-light',\n",
    "               'railscasts-dark',\n",
    "               'railscasts-light',\n",
    "               'shapeshifter-dark',\n",
    "               'shapeshifter-light',\n",
    "               'solarized-dark',\n",
    "               'solarized-light',\n",
    "               'tomorrow-dark',\n",
    "               'tomorrow-light',\n",
    "               'twilight-dark',\n",
    "               'twilight-light']"
   ]
  },
  {
   "cell_type": "code",
   "execution_count": null,
   "metadata": {
    "collapsed": true
   },
   "outputs": [],
   "source": [
    "for i in theme_names:\n",
    "    !ipython profile create $i\n",
    "    profile_dir = !ipython locate profile $i\n",
    "    url = \"https://raw.githubusercontent.com/nsonnad/base16-ipython-notebook/master/base16-\" + i + \".css\"\n",
    "    tgt = os.path.join(profile_dir[0], 'static', 'custom', \"custom.css\")\n",
    "    urllib.urlretrieve (url, tgt)\n",
    "\n",
    "for i, name in enumerate(theme_names):\n",
    "    port = str(9000 + i) \n",
    "    subprocess.Popen([\"ipython\", \"notebook\", \"--profile=\" + name, \"--port=\" + port, \"--no-browser\"])\n",
    "    \n",
    "base_url = \"http://127.0.0.1:\"\n",
    "notebook = \"/notebooks/48-themes-for-your-ipython-notebook.ipynb\"\n",
    "\n",
    "for i, name in enumerate(theme_names):\n",
    "    port = str(9000 + i) \n",
    "    url = base_url + port + notebook\n",
    "    print url, name"
   ]
  }
 ],
 "metadata": {
  "anaconda-cloud": {},
  "kernelspec": {
   "display_name": "Python [conda env:python2]",
   "language": "python",
   "name": "conda-env-python2-py"
  },
  "language_info": {
   "codemirror_mode": {
    "name": "ipython",
    "version": 2
   },
   "file_extension": ".py",
   "mimetype": "text/x-python",
   "name": "python",
   "nbconvert_exporter": "python",
   "pygments_lexer": "ipython2",
   "version": "2.7.12"
  }
 },
 "nbformat": 4,
 "nbformat_minor": 1
}
