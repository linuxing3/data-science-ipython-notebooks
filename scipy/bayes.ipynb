{
 "cells": [
  {
   "cell_type": "markdown",
   "metadata": {},
   "source": [
    "贝叶斯概率\n",
    "======================\n",
    "\n",
    "原文章：[文章标题](http://python.jobbole.com/81720/)"
   ]
  },
  {
   "cell_type": "code",
   "execution_count": 4,
   "metadata": {
    "collapsed": true
   },
   "outputs": [],
   "source": [
    "import numpy as np"
   ]
  },
  {
   "cell_type": "code",
   "execution_count": null,
   "metadata": {
    "collapsed": false
   },
   "outputs": [],
   "source": [
    "from scipy.stats import alpha\n",
    "import matplotlib.pyplot as plt\n",
    "fig, ax = plt.subplots(1, 1)\n",
    "\n",
    "# Calculate a few first moments:\n",
    "\n",
    "a = 3.57\n",
    "mean, var, skew, kurt = alpha.stats(a, moments='mvsk')\n",
    "\n",
    "# Display the probability density function (``pdf``):\n",
    "\n",
    "x = np.linspace(alpha.ppf(0.01, a),\n",
    "                alpha.ppf(0.99, a), 100)\n",
    "ax.plot(x, alpha.pdf(x, a),\n",
    "       'r-', lw=5, alpha=0.6, label='alpha pdf')\n",
    "\n",
    "# Alternatively, the distribution object can be called (as a function)\n",
    "# to fix the shape, location and scale parameters. This returns a \"frozen\"\n",
    "# RV object holding the given parameters fixed.\n",
    "\n",
    "# Freeze the distribution and display the frozen ``pdf``:\n",
    "\n",
    "rv = alpha(a)\n",
    "ax.plot(x, rv.pdf(x), 'k-', lw=2, label='frozen pdf')\n",
    "\n",
    "# Check accuracy of ``cdf`` and ``ppf``:\n",
    "\n",
    "vals = alpha.ppf([0.001, 0.5, 0.999], a)\n",
    "np.allclose([0.001, 0.5, 0.999], alpha.cdf(vals, a))\n",
    "# True\n",
    "\n",
    "# Generate random numbers:\n",
    "\n",
    "r = alpha.rvs(a, size=1000)\n",
    "\n",
    "# And compare the histogram:\n",
    "\n",
    "ax.hist(r, normed=True, histtype='stepfilled', alpha=0.2)\n",
    "ax.legend(loc='best', frameon=False)\n",
    "plt.show()"
   ]
  },
  {
   "cell_type": "code",
   "execution_count": null,
   "metadata": {
    "collapsed": false
   },
   "outputs": [],
   "source": [
    "data_coin_flips = np.random.randint(2, size=1000)\n",
    "np.mean(data_coin_flips)"
   ]
  },
  {
   "cell_type": "code",
   "execution_count": null,
   "metadata": {
    "collapsed": false
   },
   "outputs": [],
   "source": [
    "bernoulli_flips = np.random.binomial(n=1, p=.5, size=1000)\n",
    "np.mean(bernoulli_flips)"
   ]
  },
  {
   "cell_type": "markdown",
   "metadata": {},
   "source": [
    "##　测试概率质量"
   ]
  },
  {
   "cell_type": "code",
   "execution_count": 22,
   "metadata": {
    "collapsed": true
   },
   "outputs": [],
   "source": [
    "def bern_pmf(x, p):    \n",
    "    if (x == 1):       \n",
    "        return p    \n",
    "    elif (x == 0):        \n",
    "        return 1 - p   \n",
    "    else:        \n",
    "        return \"Value Not in Support of Distribution\""
   ]
  },
  {
   "cell_type": "code",
   "execution_count": 23,
   "metadata": {
    "collapsed": false
   },
   "outputs": [
    {
     "name": "stdout",
     "output_type": "stream",
     "text": [
      "0.5\n",
      "0.5\n"
     ]
    }
   ],
   "source": [
    "print(bern_pmf(1, .5))\n",
    "print(bern_pmf(0, .5))"
   ]
  },
  {
   "cell_type": "code",
   "execution_count": 24,
   "metadata": {
    "collapsed": false
   },
   "outputs": [
    {
     "name": "stdout",
     "output_type": "stream",
     "text": [
      "0.5\n",
      "0.5\n"
     ]
    }
   ],
   "source": [
    "import scipy.stats as st\n",
    "print(st.bernoulli.pmf(1, .5))\n",
    "print(st.bernoulli.pmf(0, .5))"
   ]
  },
  {
   "cell_type": "markdown",
   "metadata": {},
   "source": [
    "### 假设我们的样本数据是独立同分布的。那么我们就可以简单的认为所有数据的概率就是每个个体的独立概率的乘积：\n",
    "\n",
    "$P(x_1,…,x_n|β)=P(x_1|β)∗…∗P(x_n|β)$\n",
    "\n",
    "\n",
    "Python中可以这样实现："
   ]
  },
  {
   "cell_type": "code",
   "execution_count": 25,
   "metadata": {
    "collapsed": false
   },
   "outputs": [
    {
     "data": {
      "text/plain": [
       "9.3326361850321888e-302"
      ]
     },
     "execution_count": 25,
     "metadata": {},
     "output_type": "execute_result"
    }
   ],
   "source": [
    "np.product(st.bernoulli.pmf(data_coin_flips, .5))"
   ]
  },
  {
   "cell_type": "code",
   "execution_count": null,
   "metadata": {
    "collapsed": false
   },
   "outputs": [],
   "source": [
    "import matplotlib.pyplot as plt\n",
    "import seaborn as sns\n",
    "sns.set(style='ticks', palette='Set2')\n",
    "params = np.linspace(0, 1, 100)\n",
    "p_x = [np.product(st.bernoulli.pmf(data_coin_flips, p)) for p in params]\n",
    "plt.plot(params, p_x)\n",
    "sns.despine()"
   ]
  },
  {
   "cell_type": "code",
   "execution_count": null,
   "metadata": {
    "collapsed": true
   },
   "outputs": [],
   "source": [
    "def bern_post(n_params=100, n_sample=100, true_p=.8, prior_p=.5, n_prior=100):    \n",
    "    params = np.linspace(0, 1, n_params)    \n",
    "    sample = np.random.binomial(n=1, p=true_p, size=n_sample)    \n",
    "    likelihood = np.array([np.product(st.bernoulli.pmf(sample, p)) for p in params])    \n",
    "#likelihood = likelihood / np.sum(likelihood)    \n",
    "    prior_sample = np.random.binomial(n=1, p=prior_p, size=n_prior)    \n",
    "    prior = np.array([np.product(st.bernoulli.pmf(prior_sample, p)) for p in params])    \n",
    "    prior = prior / np.sum(prior)    \n",
    "    posterior = [prior[i] * likelihood[i] for i in range(prior.shape[0])]    \n",
    "    posterior = posterior / np.sum(posterior)        \n",
    "    fig, axes = plt.subplots(3, 1, sharex=True, figsize=(8,8))    \n",
    "    axes[0].plot(params, likelihood)    \n",
    "    axes[0].set_title(\"Sampling Distribution\")    \n",
    "    axes[1].plot(params, prior)    \n",
    "    axes[1].set_title(\"Prior Distribution\")    \n",
    "    axes[2].plot(params, posterior)    \n",
    "    axes[2].set_title(\"Posterior Distribution\")    \n",
    "    sns.despine()    \n",
    "    plt.tight_layout()        \n",
    "    return posterior"
   ]
  },
  {
   "cell_type": "code",
   "execution_count": null,
   "metadata": {
    "collapsed": false
   },
   "outputs": [],
   "source": [
    "pos = bern_post"
   ]
  },
  {
   "cell_type": "code",
   "execution_count": null,
   "metadata": {
    "collapsed": false
   },
   "outputs": [],
   "source": [
    "print(pos)"
   ]
  },
  {
   "cell_type": "code",
   "execution_count": null,
   "metadata": {
    "collapsed": true
   },
   "outputs": [],
   "source": []
  },
  {
   "cell_type": "code",
   "execution_count": null,
   "metadata": {
    "collapsed": true
   },
   "outputs": [],
   "source": []
  },
  {
   "cell_type": "code",
   "execution_count": null,
   "metadata": {
    "collapsed": true
   },
   "outputs": [],
   "source": []
  },
  {
   "cell_type": "code",
   "execution_count": null,
   "metadata": {
    "collapsed": true
   },
   "outputs": [],
   "source": []
  },
  {
   "cell_type": "code",
   "execution_count": null,
   "metadata": {
    "collapsed": true
   },
   "outputs": [],
   "source": []
  }
 ],
 "metadata": {
  "kernelspec": {
   "display_name": "Python 3",
   "language": "python",
   "name": "python3"
  },
  "language_info": {
   "codemirror_mode": {
    "name": "ipython",
    "version": 3
   },
   "file_extension": ".py",
   "mimetype": "text/x-python",
   "name": "python",
   "nbconvert_exporter": "python",
   "pygments_lexer": "ipython3",
   "version": "3.5.0"
  }
 },
 "nbformat": 4,
 "nbformat_minor": 0
}
