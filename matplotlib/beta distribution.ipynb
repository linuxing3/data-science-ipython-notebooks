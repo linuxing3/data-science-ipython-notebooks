{
 "cells": [
  {
   "cell_type": "markdown",
   "metadata": {},
   "source": [
    "# About beta distribution"
   ]
  },
  {
   "cell_type": "code",
   "execution_count": null,
   "metadata": {
    "collapsed": true
   },
   "outputs": [],
   "source": [
    "import numpy as np\n",
    "import matplotlib.pyplot as plt\n",
    "from scipy import stats"
   ]
  },
  {
   "cell_type": "code",
   "execution_count": null,
   "metadata": {
    "collapsed": false
   },
   "outputs": [],
   "source": [
    "npoints = 20 # number of integer support points of the distribution minus 1\n",
    "npointsh = npoints / 2\n",
    "npointsf = float(npoints)\n",
    "nbound = 4 #bounds for the truncated normal\n",
    "normbound = (1 + 1 / npointsf) * nbound #actual bounds of truncated normal\n",
    "print(npoints)\n",
    "print(npointsh)\n",
    "print(npointsf)\n",
    "print(normbound)"
   ]
  },
  {
   "cell_type": "code",
   "execution_count": null,
   "metadata": {
    "collapsed": false
   },
   "outputs": [],
   "source": [
    "grid = np.arange(-npointsh, npointsh+2, 1) #integer grid\n",
    "print(grid)"
   ]
  },
  {
   "cell_type": "code",
   "execution_count": null,
   "metadata": {
    "collapsed": false
   },
   "outputs": [],
   "source": [
    "gridlimitsnorm = (grid-0.5) / npointsh * nbound #bin limits for the truncnorm\n",
    "print(gridlimitsnorm)"
   ]
  },
  {
   "cell_type": "code",
   "execution_count": null,
   "metadata": {
    "collapsed": false
   },
   "outputs": [],
   "source": [
    "gridlimits = grid - 0.5\n",
    "grid = grid[:-1]\n",
    "probs = np.diff(stats.truncnorm.cdf(gridlimitsnorm, -normbound, normbound))\n",
    "print(probs)\n",
    "gridint = grid\n",
    "print(gridint)"
   ]
  },
  {
   "cell_type": "code",
   "execution_count": null,
   "metadata": {
    "collapsed": false
   },
   "outputs": [],
   "source": [
    "normdiscrete = stats.rv_discrete(\n",
    "                        values=(gridint, np.round(probs, decimals=7)),\n",
    "                        name='normdiscrete')\n",
    "\n",
    "\n",
    "n_sample = 500\n",
    "np.random.seed(87655678) #fix the seed for replicability\n",
    "rvs = normdiscrete.rvs(size=n_sample)\n",
    "rvsnd=rvs\n",
    "f,l = np.histogram(rvs, bins=gridlimits)\n",
    "sfreq = np.vstack([gridint, f, probs*n_sample]).T\n",
    "fs = sfreq[:,1] / float(n_sample)\n",
    "ft = sfreq[:,2] / float(n_sample)\n",
    "nd_std = np.sqrt(normdiscrete.stats(moments='v'))\n",
    "\n",
    "ind = gridint  # the x locations for the groups\n",
    "width = 0.35       # the width of the bars\n",
    "\n",
    "plt.subplot(111)\n",
    "rects1 = plt.bar(ind, ft, width, color='b')\n",
    "rects2 = plt.bar(ind+width, fs, width, color='r')\n",
    "normline = plt.plot(ind+width/2.0, stats.norm.pdf(ind, scale=nd_std),\n",
    "                    color='b')\n",
    "\n",
    "plt.ylabel('Frequency')\n",
    "plt.title('Frequency and Probability of normdiscrete')\n",
    "plt.xticks(ind+width, ind)\n",
    "plt.legend((rects1[0], rects2[0]), ('true', 'sample'))\n",
    "\n",
    "plt.show()"
   ]
  },
  {
   "cell_type": "code",
   "execution_count": null,
   "metadata": {
    "collapsed": true
   },
   "outputs": [],
   "source": []
  },
  {
   "cell_type": "code",
   "execution_count": null,
   "metadata": {
    "collapsed": true
   },
   "outputs": [],
   "source": []
  },
  {
   "cell_type": "code",
   "execution_count": null,
   "metadata": {
    "collapsed": true
   },
   "outputs": [],
   "source": []
  },
  {
   "cell_type": "code",
   "execution_count": null,
   "metadata": {
    "collapsed": true
   },
   "outputs": [],
   "source": []
  }
 ],
 "metadata": {
  "celltoolbar": "Slideshow",
  "kernelspec": {
   "display_name": "Python 3",
   "language": "python",
   "name": "python3"
  },
  "language_info": {
   "codemirror_mode": {
    "name": "ipython",
    "version": 3
   },
   "file_extension": ".py",
   "mimetype": "text/x-python",
   "name": "python",
   "nbconvert_exporter": "python",
   "pygments_lexer": "ipython3",
   "version": "3.5.0"
  }
 },
 "nbformat": 4,
 "nbformat_minor": 0
}
